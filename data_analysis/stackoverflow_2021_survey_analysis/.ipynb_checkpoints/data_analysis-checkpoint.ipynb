{
 "cells": [
  {
   "cell_type": "markdown",
   "metadata": {},
   "source": [
    "## Importing libraries -"
   ]
  },
  {
   "cell_type": "code",
   "execution_count": 1,
   "metadata": {},
   "outputs": [],
   "source": [
    "import numpy as np\n",
    "import pandas as pd\n",
    "import matplotlib.pyplot as plt"
   ]
  },
  {
   "cell_type": "code",
   "execution_count": 2,
   "metadata": {},
   "outputs": [],
   "source": [
    "from collections import Counter"
   ]
  },
  {
   "cell_type": "markdown",
   "metadata": {},
   "source": [
    "## Importing data -"
   ]
  },
  {
   "cell_type": "code",
   "execution_count": 23,
   "metadata": {},
   "outputs": [],
   "source": [
    "data = pd.read_csv(r'..\\developer_survey_2021\\survey_results_public.csv')"
   ]
  },
  {
   "cell_type": "code",
   "execution_count": 24,
   "metadata": {},
   "outputs": [
    {
     "data": {
      "text/plain": [
       "Index(['ResponseId', 'MainBranch', 'Employment', 'Country', 'US_State',\n",
       "       'UK_Country', 'EdLevel', 'Age1stCode', 'LearnCode', 'YearsCode',\n",
       "       'YearsCodePro', 'DevType', 'OrgSize', 'Currency', 'CompTotal',\n",
       "       'CompFreq', 'LanguageHaveWorkedWith', 'LanguageWantToWorkWith',\n",
       "       'DatabaseHaveWorkedWith', 'DatabaseWantToWorkWith',\n",
       "       'PlatformHaveWorkedWith', 'PlatformWantToWorkWith',\n",
       "       'WebframeHaveWorkedWith', 'WebframeWantToWorkWith',\n",
       "       'MiscTechHaveWorkedWith', 'MiscTechWantToWorkWith',\n",
       "       'ToolsTechHaveWorkedWith', 'ToolsTechWantToWorkWith',\n",
       "       'NEWCollabToolsHaveWorkedWith', 'NEWCollabToolsWantToWorkWith', 'OpSys',\n",
       "       'NEWStuck', 'NEWSOSites', 'SOVisitFreq', 'SOAccount', 'SOPartFreq',\n",
       "       'SOComm', 'NEWOtherComms', 'Age', 'Gender', 'Trans', 'Sexuality',\n",
       "       'Ethnicity', 'Accessibility', 'MentalHealth', 'SurveyLength',\n",
       "       'SurveyEase', 'ConvertedCompYearly'],\n",
       "      dtype='object')"
      ]
     },
     "execution_count": 24,
     "metadata": {},
     "output_type": "execute_result"
    }
   ],
   "source": [
    "data.keys()"
   ]
  },
  {
   "cell_type": "markdown",
   "metadata": {},
   "source": [
    "## Extracting releavent data -"
   ]
  },
  {
   "cell_type": "code",
   "execution_count": 25,
   "metadata": {},
   "outputs": [
    {
     "data": {
      "text/html": [
       "<div>\n",
       "<style scoped>\n",
       "    .dataframe tbody tr th:only-of-type {\n",
       "        vertical-align: middle;\n",
       "    }\n",
       "\n",
       "    .dataframe tbody tr th {\n",
       "        vertical-align: top;\n",
       "    }\n",
       "\n",
       "    .dataframe thead th {\n",
       "        text-align: right;\n",
       "    }\n",
       "</style>\n",
       "<table border=\"1\" class=\"dataframe\">\n",
       "  <thead>\n",
       "    <tr style=\"text-align: right;\">\n",
       "      <th></th>\n",
       "      <th>DevType</th>\n",
       "      <th>LanguageHaveWorkedWith</th>\n",
       "      <th>LanguageWantToWorkWith</th>\n",
       "    </tr>\n",
       "  </thead>\n",
       "  <tbody>\n",
       "    <tr>\n",
       "      <th>0</th>\n",
       "      <td>Developer, mobile</td>\n",
       "      <td>C++;HTML/CSS;JavaScript;Objective-C;PHP;Swift</td>\n",
       "      <td>Swift</td>\n",
       "    </tr>\n",
       "    <tr>\n",
       "      <th>3</th>\n",
       "      <td>Developer, front-end</td>\n",
       "      <td>JavaScript;TypeScript</td>\n",
       "      <td>JavaScript;TypeScript</td>\n",
       "    </tr>\n",
       "    <tr>\n",
       "      <th>4</th>\n",
       "      <td>Developer, desktop or enterprise applications;...</td>\n",
       "      <td>Bash/Shell;HTML/CSS;Python;SQL</td>\n",
       "      <td>Bash/Shell;HTML/CSS;Python;SQL</td>\n",
       "    </tr>\n",
       "    <tr>\n",
       "      <th>8</th>\n",
       "      <td>Developer, front-end</td>\n",
       "      <td>HTML/CSS;JavaScript</td>\n",
       "      <td>HTML/CSS;JavaScript</td>\n",
       "    </tr>\n",
       "    <tr>\n",
       "      <th>9</th>\n",
       "      <td>Data scientist or machine learning specialist</td>\n",
       "      <td>C++;Python</td>\n",
       "      <td>Haskell;Python</td>\n",
       "    </tr>\n",
       "  </tbody>\n",
       "</table>\n",
       "</div>"
      ],
      "text/plain": [
       "                                             DevType  \\\n",
       "0                                  Developer, mobile   \n",
       "3                               Developer, front-end   \n",
       "4  Developer, desktop or enterprise applications;...   \n",
       "8                               Developer, front-end   \n",
       "9      Data scientist or machine learning specialist   \n",
       "\n",
       "                          LanguageHaveWorkedWith  \\\n",
       "0  C++;HTML/CSS;JavaScript;Objective-C;PHP;Swift   \n",
       "3                          JavaScript;TypeScript   \n",
       "4                 Bash/Shell;HTML/CSS;Python;SQL   \n",
       "8                            HTML/CSS;JavaScript   \n",
       "9                                     C++;Python   \n",
       "\n",
       "           LanguageWantToWorkWith  \n",
       "0                           Swift  \n",
       "3           JavaScript;TypeScript  \n",
       "4  Bash/Shell;HTML/CSS;Python;SQL  \n",
       "8             HTML/CSS;JavaScript  \n",
       "9                  Haskell;Python  "
      ]
     },
     "execution_count": 25,
     "metadata": {},
     "output_type": "execute_result"
    }
   ],
   "source": [
    "data = pd.DataFrame(data, columns=['DevType', 'LanguageHaveWorkedWith', 'LanguageWantToWorkWith'])\n",
    "data.dropna(inplace=True)\n",
    "data.head()"
   ]
  },
  {
   "cell_type": "markdown",
   "metadata": {},
   "source": [
    "## How many different kind of developers type of developer have responded the survey ?"
   ]
  },
  {
   "cell_type": "code",
   "execution_count": 26,
   "metadata": {},
   "outputs": [
    {
     "name": "stdout",
     "output_type": "stream",
     "text": [
      "There are total 61449 many developers who belongs to 8191 differnt categories.\n"
     ]
    }
   ],
   "source": [
    "total_count = len(data.DevType)\n",
    "unique_count = len(data.DevType.unique())"
   ]
  },
  {
   "cell_type": "code",
   "execution_count": 40,
   "metadata": {},
   "outputs": [],
   "source": [
    "dev_type_info = dict()\n",
    "for response in data.iterrows():\n",
    "#     print(response[1]['LanguageHaveWorkedWith'].split(';'))\n",
    "    devtypes = response[1]['DevType'].split(';')\n",
    "    for devtype in devtypes:\n",
    "        dev_type_info.setdefault(devtype, {\n",
    "            'total':0,\n",
    "            'language_counter': Counter()\n",
    "        })\n",
    "        languages = response[1]['LanguageHaveWorkedWith'].split(';')\n",
    "        dev_type_info[devtype]['language_counter'].update(languages)\n",
    "        dev_type_info[devtype]['total'] += 1\n",
    "#     break\n",
    "# dev_type_info"
   ]
  },
  {
   "cell_type": "code",
   "execution_count": 63,
   "metadata": {},
   "outputs": [],
   "source": [
    "result = dict()\n",
    "for devType, info in dev_type_info.items():\n",
    "    result.setdefault(devType, {})\n",
    "    for lang, value in info['language_counter'].most_common(10):\n",
    "        language_pct = (value / info['total']) * 100\n",
    "        language_pct = round(language_pct, 2)\n",
    "        \n",
    "        result[devType][lang] = language_pct\n",
    "#         print(f'\\t{lang}: {language_pct}')\n",
    "#     break"
   ]
  },
  {
   "cell_type": "code",
   "execution_count": 64,
   "metadata": {},
   "outputs": [
    {
     "data": {
      "text/plain": [
       "{'Python': 71.93,\n",
       " 'SQL': 64.25,\n",
       " 'JavaScript': 55.41,\n",
       " 'HTML/CSS': 45.9,\n",
       " 'Bash/Shell': 40.93,\n",
       " 'Java': 36.52,\n",
       " 'Node.js': 29.1,\n",
       " 'TypeScript': 24.43,\n",
       " 'C++': 23.97,\n",
       " 'C#': 23.89}"
      ]
     },
     "execution_count": 64,
     "metadata": {},
     "output_type": "execute_result"
    }
   ],
   "source": [
    "result['Engineer, data']"
   ]
  },
  {
   "cell_type": "code",
   "execution_count": 66,
   "metadata": {},
   "outputs": [
    {
     "data": {
      "text/plain": [
       "dict_keys(['Developer, mobile', 'Developer, front-end', 'Developer, desktop or enterprise applications', 'Developer, full-stack', 'Engineer, data', 'Other (please specify):', 'Data scientist or machine learning specialist', 'Developer, back-end', 'Academic researcher', 'Database administrator', 'Scientist', 'Student', 'Developer, QA or test', 'Developer, game or graphics', 'Developer, embedded applications or devices', 'DevOps specialist', 'Data or business analyst', 'Designer', 'Engineering manager', 'System administrator', 'Product manager', 'Senior Executive (C-Suite, VP, etc.)', 'Engineer, site reliability', 'Educator', 'Marketing or sales professional'])"
      ]
     },
     "execution_count": 66,
     "metadata": {},
     "output_type": "execute_result"
    }
   ],
   "source": [
    "result.keys()"
   ]
  },
  {
   "cell_type": "code",
   "execution_count": 67,
   "metadata": {},
   "outputs": [
    {
     "data": {
      "text/plain": [
       "{'Python': 86.94,\n",
       " 'SQL': 53.25,\n",
       " 'JavaScript': 45.36,\n",
       " 'HTML/CSS': 40.06,\n",
       " 'Bash/Shell': 35.42,\n",
       " 'C++': 28.88,\n",
       " 'Java': 27.21,\n",
       " 'R': 27.11,\n",
       " 'C': 22.44,\n",
       " 'Node.js': 22.02}"
      ]
     },
     "execution_count": 67,
     "metadata": {},
     "output_type": "execute_result"
    }
   ],
   "source": [
    "result['Data scientist or machine learning specialist']"
   ]
  },
  {
   "cell_type": "code",
   "execution_count": 68,
   "metadata": {},
   "outputs": [
    {
     "data": {
      "text/plain": [
       "{'JavaScript': 70.33,\n",
       " 'SQL': 59.55,\n",
       " 'HTML/CSS': 57.9,\n",
       " 'Python': 54.45,\n",
       " 'Bash/Shell': 53.76,\n",
       " 'Node.js': 43.97,\n",
       " 'TypeScript': 40.51,\n",
       " 'Java': 36.33,\n",
       " 'C#': 32.25,\n",
       " 'PHP': 25.25}"
      ]
     },
     "execution_count": 68,
     "metadata": {},
     "output_type": "execute_result"
    }
   ],
   "source": [
    "result['DevOps specialist']"
   ]
  },
  {
   "cell_type": "code",
   "execution_count": 69,
   "metadata": {},
   "outputs": [
    {
     "name": "stdout",
     "output_type": "stream",
     "text": [
      "There are total 61449 many developers who belongs to 25 differnt categories.\n"
     ]
    }
   ],
   "source": [
    "print(f'There are total {total_count} many developers who belongs to {len(result.keys())} differnt categories.')"
   ]
  },
  {
   "cell_type": "code",
   "execution_count": null,
   "metadata": {},
   "outputs": [],
   "source": []
  }
 ],
 "metadata": {
  "kernelspec": {
   "display_name": "Python 3",
   "language": "python",
   "name": "python3"
  },
  "language_info": {
   "codemirror_mode": {
    "name": "ipython",
    "version": 3
   },
   "file_extension": ".py",
   "mimetype": "text/x-python",
   "name": "python",
   "nbconvert_exporter": "python",
   "pygments_lexer": "ipython3",
   "version": "3.8.5"
  }
 },
 "nbformat": 4,
 "nbformat_minor": 4
}
